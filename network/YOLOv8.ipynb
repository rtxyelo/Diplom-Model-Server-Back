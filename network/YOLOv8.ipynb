{
 "cells": [
  {
   "cell_type": "code",
   "execution_count": 1,
   "metadata": {},
   "outputs": [
    {
     "name": "stdout",
     "output_type": "stream",
     "text": [
      "Requirement already satisfied: torch==2.3.0+cu121 in c:\\python312\\lib\\site-packages (2.3.0+cu121)\n",
      "Requirement already satisfied: filelock in c:\\python312\\lib\\site-packages (from torch==2.3.0+cu121) (3.13.4)\n",
      "Requirement already satisfied: typing-extensions>=4.8.0 in c:\\python312\\lib\\site-packages (from torch==2.3.0+cu121) (4.11.0)\n",
      "Requirement already satisfied: sympy in c:\\python312\\lib\\site-packages (from torch==2.3.0+cu121) (1.12)\n",
      "Requirement already satisfied: networkx in c:\\python312\\lib\\site-packages (from torch==2.3.0+cu121) (3.3)\n",
      "Requirement already satisfied: jinja2 in c:\\python312\\lib\\site-packages (from torch==2.3.0+cu121) (3.1.3)\n",
      "Requirement already satisfied: fsspec in c:\\python312\\lib\\site-packages (from torch==2.3.0+cu121) (2024.3.1)\n",
      "Requirement already satisfied: mkl<=2021.4.0,>=2021.1.1 in c:\\python312\\lib\\site-packages (from torch==2.3.0+cu121) (2021.4.0)\n",
      "Requirement already satisfied: intel-openmp==2021.* in c:\\python312\\lib\\site-packages (from mkl<=2021.4.0,>=2021.1.1->torch==2.3.0+cu121) (2021.4.0)\n",
      "Requirement already satisfied: tbb==2021.* in c:\\python312\\lib\\site-packages (from mkl<=2021.4.0,>=2021.1.1->torch==2.3.0+cu121) (2021.12.0)\n",
      "Requirement already satisfied: MarkupSafe>=2.0 in c:\\python312\\lib\\site-packages (from jinja2->torch==2.3.0+cu121) (2.1.5)\n",
      "Requirement already satisfied: mpmath>=0.19 in c:\\python312\\lib\\site-packages (from sympy->torch==2.3.0+cu121) (1.3.0)\n",
      "Note: you may need to restart the kernel to use updated packages.\n",
      "Requirement already satisfied: roboflow in c:\\python312\\lib\\site-packages (1.1.27)\n",
      "Requirement already satisfied: certifi==2023.7.22 in c:\\python312\\lib\\site-packages (from roboflow) (2023.7.22)\n",
      "Requirement already satisfied: chardet==4.0.0 in c:\\python312\\lib\\site-packages (from roboflow) (4.0.0)\n",
      "Requirement already satisfied: cycler==0.10.0 in c:\\python312\\lib\\site-packages (from roboflow) (0.10.0)\n",
      "Requirement already satisfied: idna==2.10 in c:\\python312\\lib\\site-packages (from roboflow) (2.10)\n",
      "Requirement already satisfied: kiwisolver>=1.3.1 in c:\\python312\\lib\\site-packages (from roboflow) (1.4.5)\n",
      "Requirement already satisfied: matplotlib in c:\\python312\\lib\\site-packages (from roboflow) (3.8.4)\n",
      "Requirement already satisfied: numpy>=1.18.5 in c:\\python312\\lib\\site-packages (from roboflow) (1.26.4)\n",
      "Requirement already satisfied: opencv-python-headless==4.8.0.74 in c:\\python312\\lib\\site-packages (from roboflow) (4.8.0.74)\n",
      "Requirement already satisfied: Pillow>=7.1.2 in c:\\python312\\lib\\site-packages (from roboflow) (10.3.0)\n",
      "Requirement already satisfied: python-dateutil in c:\\python312\\lib\\site-packages (from roboflow) (2.9.0.post0)\n",
      "Requirement already satisfied: python-dotenv in c:\\python312\\lib\\site-packages (from roboflow) (1.0.1)\n",
      "Requirement already satisfied: requests in c:\\python312\\lib\\site-packages (from roboflow) (2.31.0)\n",
      "Requirement already satisfied: six in c:\\python312\\lib\\site-packages (from roboflow) (1.16.0)\n",
      "Requirement already satisfied: urllib3>=1.26.6 in c:\\python312\\lib\\site-packages (from roboflow) (2.2.1)\n",
      "Requirement already satisfied: tqdm>=4.41.0 in c:\\python312\\lib\\site-packages (from roboflow) (4.66.2)\n",
      "Requirement already satisfied: PyYAML>=5.3.1 in c:\\python312\\lib\\site-packages (from roboflow) (6.0.1)\n",
      "Requirement already satisfied: requests-toolbelt in c:\\python312\\lib\\site-packages (from roboflow) (1.0.0)\n",
      "Requirement already satisfied: python-magic in c:\\python312\\lib\\site-packages (from roboflow) (0.4.27)\n",
      "Requirement already satisfied: colorama in c:\\python312\\lib\\site-packages (from tqdm>=4.41.0->roboflow) (0.4.6)\n",
      "Requirement already satisfied: contourpy>=1.0.1 in c:\\python312\\lib\\site-packages (from matplotlib->roboflow) (1.2.1)\n",
      "Requirement already satisfied: fonttools>=4.22.0 in c:\\python312\\lib\\site-packages (from matplotlib->roboflow) (4.51.0)\n",
      "Requirement already satisfied: packaging>=20.0 in c:\\python312\\lib\\site-packages (from matplotlib->roboflow) (24.0)\n",
      "Requirement already satisfied: pyparsing>=2.3.1 in c:\\python312\\lib\\site-packages (from matplotlib->roboflow) (3.1.2)\n",
      "Requirement already satisfied: charset-normalizer<4,>=2 in c:\\python312\\lib\\site-packages (from requests->roboflow) (3.3.2)\n",
      "Note: you may need to restart the kernel to use updated packages.\n",
      "Requirement already satisfied: clearml in c:\\python312\\lib\\site-packages (1.15.1)\n",
      "Requirement already satisfied: attrs>=18.0 in c:\\python312\\lib\\site-packages (from clearml) (23.2.0)\n",
      "Requirement already satisfied: furl>=2.0.0 in c:\\python312\\lib\\site-packages (from clearml) (2.1.3)\n",
      "Requirement already satisfied: jsonschema>=2.6.0 in c:\\python312\\lib\\site-packages (from clearml) (4.21.1)\n",
      "Requirement already satisfied: numpy>=1.10 in c:\\python312\\lib\\site-packages (from clearml) (1.26.4)\n",
      "Requirement already satisfied: pathlib2>=2.3.0 in c:\\python312\\lib\\site-packages (from clearml) (2.3.7.post1)\n",
      "Requirement already satisfied: Pillow>=4.1.1 in c:\\python312\\lib\\site-packages (from clearml) (10.3.0)\n",
      "Requirement already satisfied: psutil>=3.4.2 in c:\\python312\\lib\\site-packages (from clearml) (5.9.8)\n",
      "Requirement already satisfied: pyparsing>=2.0.3 in c:\\python312\\lib\\site-packages (from clearml) (3.1.2)\n",
      "Requirement already satisfied: python-dateutil>=2.6.1 in c:\\python312\\lib\\site-packages (from clearml) (2.9.0.post0)\n",
      "Requirement already satisfied: PyYAML>=3.12 in c:\\python312\\lib\\site-packages (from clearml) (6.0.1)\n",
      "Requirement already satisfied: requests>=2.20.0 in c:\\python312\\lib\\site-packages (from clearml) (2.31.0)\n",
      "Requirement already satisfied: six>=1.13.0 in c:\\python312\\lib\\site-packages (from clearml) (1.16.0)\n",
      "Requirement already satisfied: urllib3>=1.21.1 in c:\\python312\\lib\\site-packages (from clearml) (2.2.1)\n",
      "Requirement already satisfied: pyjwt<2.9.0,>=2.4.0 in c:\\python312\\lib\\site-packages (from clearml) (2.8.0)\n",
      "Requirement already satisfied: referencing<0.40 in c:\\python312\\lib\\site-packages (from clearml) (0.35.0)\n",
      "Requirement already satisfied: orderedmultidict>=1.0.1 in c:\\python312\\lib\\site-packages (from furl>=2.0.0->clearml) (1.0.1)\n",
      "Requirement already satisfied: jsonschema-specifications>=2023.03.6 in c:\\python312\\lib\\site-packages (from jsonschema>=2.6.0->clearml) (2023.12.1)\n",
      "Requirement already satisfied: rpds-py>=0.7.1 in c:\\python312\\lib\\site-packages (from jsonschema>=2.6.0->clearml) (0.18.0)\n",
      "Requirement already satisfied: charset-normalizer<4,>=2 in c:\\python312\\lib\\site-packages (from requests>=2.20.0->clearml) (3.3.2)\n",
      "Requirement already satisfied: idna<4,>=2.5 in c:\\python312\\lib\\site-packages (from requests>=2.20.0->clearml) (2.10)\n",
      "Requirement already satisfied: certifi>=2017.4.17 in c:\\python312\\lib\\site-packages (from requests>=2.20.0->clearml) (2023.7.22)\n",
      "Note: you may need to restart the kernel to use updated packages.\n"
     ]
    }
   ],
   "source": [
    "%pip install torch==2.3.0+cu121\n",
    "%pip install roboflow\n",
    "%pip install clearml"
   ]
  },
  {
   "cell_type": "code",
   "execution_count": 2,
   "metadata": {},
   "outputs": [
    {
     "name": "stdout",
     "output_type": "stream",
     "text": [
      "Ultralytics YOLOv8.2.4  Python-3.12.2 torch-2.3.0+cu121 CUDA:0 (NVIDIA GeForce RTX 4050 Laptop GPU, 6140MiB)\n",
      "Setup complete  (12 CPUs, 15.7 GB RAM, 386.7/465.7 GB disk)\n"
     ]
    }
   ],
   "source": [
    "%pip install ultralytics\n",
    "import ultralytics\n",
    "ultralytics.checks()"
   ]
  },
  {
   "cell_type": "code",
   "execution_count": 3,
   "metadata": {},
   "outputs": [],
   "source": [
    "from roboflow import Roboflow\n",
    "from ultralytics import YOLO\n",
    "from clearml import Task"
   ]
  },
  {
   "cell_type": "code",
   "execution_count": 4,
   "metadata": {},
   "outputs": [
    {
     "name": "stdout",
     "output_type": "stream",
     "text": [
      "PyTorch version: 2.3.0+cu121\n",
      "**********\n",
      "_CUDA version: \n",
      "nvcc: NVIDIA (R) Cuda compiler driver\n",
      "Copyright (c) 2005-2023 NVIDIA Corporation\n",
      "Built on Wed_Feb__8_05:53:42_Coordinated_Universal_Time_2023\n",
      "Cuda compilation tools, release 12.1, V12.1.66\n",
      "Build cuda_12.1.r12.1/compiler.32415258_0\n",
      "**********\n",
      "CUDNN version: 8801\n",
      "Available GPU devices: 1\n",
      "Device Name: NVIDIA GeForce RTX 4050 Laptop GPU\n"
     ]
    }
   ],
   "source": [
    "import torch\n",
    "print(f'PyTorch version: {torch.__version__}')\n",
    "print('*'*10)\n",
    "print(f'_CUDA version: ')\n",
    "!nvcc --version\n",
    "print('*'*10)\n",
    "print(f'CUDNN version: {torch.backends.cudnn.version()}')\n",
    "print(f'Available GPU devices: {torch.cuda.device_count()}')\n",
    "print(f'Device Name: {torch.cuda.get_device_name()}')"
   ]
  },
  {
   "cell_type": "code",
   "execution_count": 5,
   "metadata": {},
   "outputs": [],
   "source": [
    "# YOLO model version\n",
    "\n",
    "model_version = 'yolov8m'"
   ]
  },
  {
   "cell_type": "code",
   "execution_count": 6,
   "metadata": {},
   "outputs": [
    {
     "name": "stdout",
     "output_type": "stream",
     "text": [
      "ClearML Task: overwriting (reusing) task id=b6479f117ec944fb99caa9275a7e55e3\n",
      "2024-05-09 22:05:52,933 - clearml.Repository Detection - WARNING - Could not read Jupyter Notebook: No module named 'nbconvert'\n",
      "2024-05-09 22:05:52,964 - clearml.Task - INFO - Storing jupyter notebook directly as code\n",
      "ClearML results page: https://app.clear.ml/projects/6e8b14edcdd84c289b72a5c8292790e2/experiments/b6479f117ec944fb99caa9275a7e55e3/output/log\n"
     ]
    },
    {
     "name": "stdout",
     "output_type": "stream",
     "text": [
      "ClearML Monitor: Could not detect iteration reporting, falling back to iterations as seconds-from-start\n"
     ]
    }
   ],
   "source": [
    "#task.close()\n",
    "\n",
    "task = Task.init(project_name=\"Diplom\", task_name=f\"{model_version}_task\")"
   ]
  },
  {
   "cell_type": "code",
   "execution_count": 7,
   "metadata": {},
   "outputs": [
    {
     "name": "stdout",
     "output_type": "stream",
     "text": [
      "2.3.0+cu121\n",
      "True\n"
     ]
    }
   ],
   "source": [
    "print(torch.__version__)\n",
    "print(torch.cuda.is_available())"
   ]
  },
  {
   "cell_type": "code",
   "execution_count": 8,
   "metadata": {},
   "outputs": [
    {
     "name": "stdout",
     "output_type": "stream",
     "text": [
      "2024-05-09 22:06:01,574 - clearml.model - INFO - Selected model id: 53e52ffa76b348f5a0cd67aebe0acc3e\n"
     ]
    }
   ],
   "source": [
    "## Check for CUDA device and set it\n",
    "#device = 'cuda' if torch.cuda.is_available() else 'cpu'\n",
    "#print(f'Using device: {device}')\n",
    "\n",
    "# Load model\n",
    "model = YOLO(f\"{model_version}.pt\") \n",
    "#model.to(device)"
   ]
  },
  {
   "cell_type": "code",
   "execution_count": 9,
   "metadata": {},
   "outputs": [],
   "source": [
    "dataset = 'C:/Users/greyb/OneDrive/Desktop/Potok/Study/Diplom/data/data.yaml'"
   ]
  },
  {
   "cell_type": "code",
   "execution_count": 10,
   "metadata": {},
   "outputs": [
    {
     "data": {
      "text/plain": [
       "\"\\n# Training.\\nresults = model.train(\\n   data=dataset,\\n   imgsz=1024,\\n   epochs=10,\\n   batch=4,\\n   device=0,\\n   seed=1,\\n   cls=3.0,\\n   dfl=1.8,\\n   box=6.5,\\n   dropout=0.0008,\\n   name=f'{model_version}')\\n\""
      ]
     },
     "execution_count": 10,
     "metadata": {},
     "output_type": "execute_result"
    }
   ],
   "source": [
    "'''\n",
    "# Training.\n",
    "results = model.train(\n",
    "   data=dataset,\n",
    "   imgsz=1024,\n",
    "   epochs=10,\n",
    "   batch=4,\n",
    "   device=0,\n",
    "   seed=1,\n",
    "   cls=3.0,\n",
    "   dfl=1.8,\n",
    "   box=6.5,\n",
    "   dropout=0.0008,\n",
    "   name=f'{model_version}')\n",
    "'''"
   ]
  },
  {
   "cell_type": "code",
   "execution_count": 11,
   "metadata": {},
   "outputs": [],
   "source": [
    "best_model_path = 'C:/Users/greyb/OneDrive/Desktop/Potok/Study/Diplom/network/runs/detect/yolov8m5_BEST_V2/weights/best.pt'\n"
   ]
  },
  {
   "cell_type": "code",
   "execution_count": 12,
   "metadata": {},
   "outputs": [
    {
     "name": "stdout",
     "output_type": "stream",
     "text": [
      "2024-05-09 22:06:06,629 - clearml.model - INFO - Selected model id: 823f5b1b0c454c54a60b3e96df1d6631\n"
     ]
    }
   ],
   "source": [
    "best_model = YOLO(best_model_path)"
   ]
  },
  {
   "cell_type": "code",
   "execution_count": 13,
   "metadata": {},
   "outputs": [],
   "source": [
    "import yaml\n",
    "\n",
    "import sys\n",
    "sys.path.insert(0, '../toolkit')\n",
    "\n",
    "import PreprocessData as prepr_data\n",
    "from utils import load_symbol_map, cls_to_symbol, sort_coordinates_by_row, input_spaces, to_rus_symbols\n",
    "\n",
    "import os\n",
    "import cv2"
   ]
  },
  {
   "cell_type": "code",
   "execution_count": 14,
   "metadata": {},
   "outputs": [],
   "source": [
    "path_to_symbol_map = 'C:/Users/greyb/OneDrive/Desktop/Potok/Study/Diplom/data/data.yaml'\n",
    "\n",
    "symbol_map = load_symbol_map(path_to_symbol_map, 'names')"
   ]
  },
  {
   "cell_type": "code",
   "execution_count": 35,
   "metadata": {},
   "outputs": [],
   "source": [
    "test_img_path = '../test/test/testIMG_2.jpg' # test_image\n",
    "\n",
    "img = cv2.imread(test_img_path, cv2.IMREAD_UNCHANGED)"
   ]
  },
  {
   "cell_type": "code",
   "execution_count": 36,
   "metadata": {},
   "outputs": [
    {
     "data": {
      "text/plain": [
       "True"
      ]
     },
     "execution_count": 36,
     "metadata": {},
     "output_type": "execute_result"
    }
   ],
   "source": [
    "img_size = 1024\n",
    "blur_value = 0\n",
    "exposure_values = [0.45, 50] # [0.45, 50] \n",
    "\n",
    "preprocessing_image = prepr_data.Preprocessing(img_size, blur_value, exposure_values).preprocess_image(img)\n",
    "\n",
    "prepr_img_path = '../test/test/prepr_imgs'\n",
    "cv2.imwrite(os.path.join(prepr_img_path, 'test.jpg'), preprocessing_image)"
   ]
  },
  {
   "cell_type": "code",
   "execution_count": 17,
   "metadata": {},
   "outputs": [
    {
     "data": {
      "text/plain": [
       "'\\ncv2.imshow(\"Preprocessed image\", preprocessing_image)\\ncv2.waitKey(0)\\ncv2.destroyAllWindows()\\n'"
      ]
     },
     "execution_count": 17,
     "metadata": {},
     "output_type": "execute_result"
    }
   ],
   "source": [
    "'''\n",
    "cv2.imshow(\"Preprocessed image\", preprocessing_image)\n",
    "cv2.waitKey(0)\n",
    "cv2.destroyAllWindows()\n",
    "'''"
   ]
  },
  {
   "cell_type": "code",
   "execution_count": 41,
   "metadata": {},
   "outputs": [
    {
     "name": "stdout",
     "output_type": "stream",
     "text": [
      "\n",
      "image 1/1 c:\\Users\\greyb\\OneDrive\\Desktop\\Potok\\Study\\Diplom\\network\\..\\test\\test\\prepr_imgs\\test.jpg: 1024x1024 6 as, 2 bs, 1 c, 2 chs, 3 ds, 5 es, 8 is, 1 iKratkoe, 2 iis, 3 ks, 3 ls, 6 _ns, 5 os, 2 ps, 5 rs, 1 s, 4 ts, 1 v, 3 xs, 2 _ys, 5 yas, 1 z, 1 zapyataya, 357.6ms\n",
      "Speed: 10.7ms preprocess, 357.6ms inference, 4.1ms postprocess per image at shape (1, 3, 1024, 1024)\n",
      "Results saved to \u001b[1mruns\\detect\\predict18\u001b[0m\n"
     ]
    }
   ],
   "source": [
    "#best_model.predict(test_img_path)\n",
    "\n",
    "results = best_model.predict(f'{prepr_img_path}/test.jpg', augment=True, save_crop=False, show_conf=False, line_width=1, save=True, agnostic_nms=True)"
   ]
  },
  {
   "cell_type": "code",
   "execution_count": 42,
   "metadata": {},
   "outputs": [],
   "source": [
    "# Process results list\n",
    "for result in results:\n",
    "    boxes = result.boxes  # Boxes object for bounding box outputs\n",
    "    #masks = result.masks  # Masks object for segmentation masks outputs\n",
    "    #keypoints = result.keypoints  # Keypoints object for pose outputs\n",
    "    #probs = result.probs  # Probs object for classification outputs\n",
    "    #obb = result.obb  # Oriented boxes object for OBB outputs\n",
    "    #result.show()  # display to screen\n",
    "    #result.save(filename='result.jpg')  # save to disk"
   ]
  },
  {
   "cell_type": "code",
   "execution_count": 43,
   "metadata": {},
   "outputs": [
    {
     "name": "stdout",
     "output_type": "stream",
     "text": [
      "ultralytics.engine.results.Boxes object with attributes:\n",
      "\n",
      "cls: tensor([42., 22., 52., 26., 46., 42., 30., 26., 50., 52., 33., 46., 30., 30., 30., 33., 51., 43., 36., 46., 39., 22., 30., 52., 23., 26., 50., 19., 23., 36., 40., 40., 40., 41., 20., 42., 26., 51., 42., 41., 21., 46., 30., 39., 40., 36., 30., 39., 54., 39., 23., 19., 42., 40., 20., 32., 52., 50., 52., 19., 30., 19.,\n",
      "        39., 19., 26., 31., 49., 33., 39., 32., 19., 55.], device='cuda:0')\n",
      "conf: tensor([0.9590, 0.9585, 0.9506, 0.9425, 0.9366, 0.9337, 0.9321, 0.9293, 0.9282, 0.9269, 0.9259, 0.9258, 0.9244, 0.9241, 0.9238, 0.9235, 0.9230, 0.9229, 0.9211, 0.9203, 0.9197, 0.9170, 0.9164, 0.9162, 0.9160, 0.9156, 0.9138, 0.9137, 0.9127, 0.9097, 0.9091, 0.9085, 0.9076, 0.9068, 0.9045, 0.9022, 0.9013, 0.8991, 0.8983,\n",
      "        0.8978, 0.8951, 0.8948, 0.8948, 0.8943, 0.8943, 0.8908, 0.8881, 0.8871, 0.8870, 0.8869, 0.8780, 0.8771, 0.8692, 0.8683, 0.8679, 0.8671, 0.8628, 0.8624, 0.8602, 0.8592, 0.8568, 0.8496, 0.8436, 0.8424, 0.8415, 0.8396, 0.8299, 0.8285, 0.8222, 0.8187, 0.8084, 0.7850], device='cuda:0')\n",
      "data: tensor([[491.6624, 563.4742, 502.7065, 584.3203,   0.9590,  42.0000],\n",
      "        [378.1562, 535.7141, 389.1647, 557.2563,   0.9585,  22.0000],\n",
      "        [444.5914, 534.9676, 455.3528, 556.6376,   0.9506,  52.0000],\n",
      "        [462.3394, 592.1483, 474.1003, 613.1865,   0.9425,  26.0000],\n",
      "        [610.9299, 564.9260, 621.3628, 584.8203,   0.9366,  46.0000],\n",
      "        [439.6212, 564.1604, 451.1414, 585.7671,   0.9337,  42.0000],\n",
      "        [684.6665, 565.0042, 695.0835, 585.0404,   0.9321,  30.0000],\n",
      "        [699.0724, 535.9732, 709.8282, 556.9078,   0.9293,  26.0000],\n",
      "        [563.2909, 593.0178, 574.1544, 613.2878,   0.9282,  50.0000],\n",
      "        [607.6331, 535.6763, 618.1037, 557.2795,   0.9269,  52.0000],\n",
      "        [672.2956, 564.0289, 683.0750, 584.8176,   0.9259,  33.0000],\n",
      "        [466.4156, 563.4993, 477.3501, 584.6776,   0.9258,  46.0000],\n",
      "        [723.6671, 536.5121, 733.5778, 557.0536,   0.9244,  30.0000],\n",
      "        [501.1269, 535.8021, 512.1862, 557.0280,   0.9241,  30.0000],\n",
      "        [643.9619, 592.6157, 654.3245, 613.4139,   0.9238,  30.0000],\n",
      "        [474.7062, 593.0486, 485.9443, 614.1077,   0.9235,  33.0000],\n",
      "        [364.8452, 535.4614, 376.2795, 557.1030,   0.9230,  51.0000],\n",
      "        [659.7920, 564.0900, 670.2400, 584.9554,   0.9229,  43.0000],\n",
      "        [449.1926, 593.0673, 461.0389, 614.2823,   0.9211,  36.0000],\n",
      "        [514.0815, 535.9982, 524.4492, 557.2242,   0.9203,  46.0000],\n",
      "        [504.3082, 563.4388, 515.8401, 584.3139,   0.9197,  39.0000],\n",
      "        [635.3867, 563.9329, 645.8762, 584.6039,   0.9170,  22.0000],\n",
      "        [623.1382, 563.8320, 633.3176, 584.3058,   0.9164,  30.0000],\n",
      "        [564.3070, 535.2939, 575.1281, 556.3991,   0.9162,  52.0000],\n",
      "        [686.8495, 536.9987, 697.3193, 558.2494,   0.9160,  23.0000],\n",
      "        [647.3011, 564.7875, 657.9049, 585.1572,   0.9156,  26.0000],\n",
      "        [529.4480, 564.5443, 540.0295, 585.1617,   0.9138,  50.0000],\n",
      "        [463.3906, 535.1385, 473.9069, 556.0261,   0.9137,  19.0000],\n",
      "        [582.9215, 535.6469, 593.3833, 556.5487,   0.9127,  23.0000],\n",
      "        [387.9175, 563.6508, 400.6690, 584.8036,   0.9097,  36.0000],\n",
      "        [649.6482, 536.6845, 660.3508, 557.9202,   0.9091,  40.0000],\n",
      "        [426.7069, 564.2411, 438.2350, 585.7783,   0.9085,  40.0000],\n",
      "        [526.1335, 536.1505, 536.9563, 557.1494,   0.9076,  40.0000],\n",
      "        [560.1725, 564.7538, 571.4048, 585.2955,   0.9068,  41.0000],\n",
      "        [404.6485, 536.0783, 415.8378, 557.4622,   0.9045,  20.0000],\n",
      "        [638.1182, 535.9471, 648.6999, 557.0119,   0.9022,  42.0000],\n",
      "        [674.9493, 536.3933, 685.0773, 557.1514,   0.9013,  26.0000],\n",
      "        [475.7088, 535.0109, 486.9325, 556.3466,   0.8991,  51.0000],\n",
      "        [573.1064, 563.5831, 583.9466, 584.6701,   0.8983,  42.0000],\n",
      "        [625.0095, 536.7955, 635.6964, 557.7451,   0.8978,  41.0000],\n",
      "        [488.9825, 591.6196, 499.7563, 612.3900,   0.8951,  21.0000],\n",
      "        [631.8904, 592.7010, 642.1240, 613.4169,   0.8948,  46.0000],\n",
      "        [551.3790, 536.0497, 562.1929, 557.4106,   0.8948,  30.0000],\n",
      "        [418.1046, 534.8575, 429.4631, 556.4001,   0.8943,  39.0000],\n",
      "        [513.2213, 592.6390, 523.9088, 613.5048,   0.8943,  40.0000],\n",
      "        [595.3836, 535.7054, 606.4355, 556.9169,   0.8908,  36.0000],\n",
      "        [500.7732, 592.6948, 511.7021, 613.6023,   0.8881,  30.0000],\n",
      "        [606.8011, 592.7290, 617.2675, 613.1653,   0.8871,  39.0000],\n",
      "        [581.6187, 592.9484, 592.6017, 613.4254,   0.8870,  54.0000],\n",
      "        [711.6968, 536.2968, 721.9113, 556.9930,   0.8869,  39.0000],\n",
      "        [488.1257, 535.5941, 499.1541, 556.8942,   0.8780,  23.0000],\n",
      "        [452.6628, 564.3459, 464.2392, 584.9918,   0.8771,  19.0000],\n",
      "        [538.5939, 535.8883, 549.8844, 557.3256,   0.8692,  42.0000],\n",
      "        [478.4341, 564.1949, 489.5894, 585.0773,   0.8683,  40.0000],\n",
      "        [413.6226, 564.1365, 425.6072, 586.2007,   0.8679,  20.0000],\n",
      "        [551.5150, 591.8605, 562.2150, 612.5933,   0.8671,  32.0000],\n",
      "        [619.9775, 592.0991, 630.1053, 612.5347,   0.8628,  52.0000],\n",
      "        [696.8365, 565.1957, 706.3980, 585.9357,   0.8624,  50.0000],\n",
      "        [735.2428, 536.9346, 745.6233, 558.8853,   0.8602,  52.0000],\n",
      "        [585.2490, 564.9675, 595.8232, 584.5818,   0.8592,  19.0000],\n",
      "        [714.3134, 563.8885, 725.0980, 584.9459,   0.8568,  30.0000],\n",
      "        [400.9325, 564.4645, 412.5235, 586.0765,   0.8496,  19.0000],\n",
      "        [525.9247, 592.6156, 536.5350, 613.7684,   0.8436,  39.0000],\n",
      "        [431.2595, 534.7544, 442.3316, 556.1051,   0.8424,  19.0000],\n",
      "        [391.5474, 535.9296, 402.6152, 557.4067,   0.8415,  26.0000],\n",
      "        [656.1737, 592.4442, 666.9196, 613.5351,   0.8396,  31.0000],\n",
      "        [662.4445, 537.0333, 672.9178, 557.9664,   0.8299,  49.0000],\n",
      "        [597.7287, 564.9057, 609.0413, 585.0280,   0.8285,  33.0000],\n",
      "        [538.5904, 592.7867, 549.1671, 613.4711,   0.8222,  39.0000],\n",
      "        [517.0201, 564.3174, 528.1593, 585.1851,   0.8187,  32.0000],\n",
      "        [594.6081, 592.7001, 604.9123, 613.1134,   0.8084,  19.0000],\n",
      "        [541.8348, 563.8511, 553.6263, 584.5984,   0.7850,  55.0000]], device='cuda:0')\n",
      "id: None\n",
      "is_track: False\n",
      "orig_shape: (1024, 1024)\n",
      "shape: torch.Size([72, 6])\n",
      "xywh: tensor([[497.1844, 573.8972,  11.0441,  20.8461],\n",
      "        [383.6605, 546.4852,  11.0085,  21.5422],\n",
      "        [449.9721, 545.8026,  10.7614,  21.6700],\n",
      "        [468.2198, 602.6674,  11.7608,  21.0382],\n",
      "        [616.1464, 574.8732,  10.4329,  19.8943],\n",
      "        [445.3813, 574.9637,  11.5203,  21.6067],\n",
      "        [689.8750, 575.0223,  10.4170,  20.0363],\n",
      "        [704.4503, 546.4405,  10.7559,  20.9346],\n",
      "        [568.7227, 603.1528,  10.8635,  20.2700],\n",
      "        [612.8684, 546.4779,  10.4706,  21.6033],\n",
      "        [677.6853, 574.4233,  10.7794,  20.7887],\n",
      "        [471.8829, 574.0884,  10.9344,  21.1782],\n",
      "        [728.6224, 546.7828,   9.9108,  20.5415],\n",
      "        [506.6566, 546.4150,  11.0593,  21.2258],\n",
      "        [649.1432, 603.0148,  10.3625,  20.7982],\n",
      "        [480.3253, 603.5781,  11.2381,  21.0591],\n",
      "        [370.5624, 546.2822,  11.4343,  21.6416],\n",
      "        [665.0160, 574.5227,  10.4480,  20.8655],\n",
      "        [455.1158, 603.6748,  11.8463,  21.2151],\n",
      "        [519.2654, 546.6112,  10.3677,  21.2261],\n",
      "        [510.0742, 573.8763,  11.5320,  20.8751],\n",
      "        [640.6314, 574.2684,  10.4895,  20.6710],\n",
      "        [628.2279, 574.0689,  10.1794,  20.4738],\n",
      "        [569.7175, 545.8465,  10.8210,  21.1052],\n",
      "        [692.0844, 547.6240,  10.4698,  21.2507],\n",
      "        [652.6030, 574.9724,  10.6038,  20.3698],\n",
      "        [534.7388, 574.8530,  10.5815,  20.6174],\n",
      "        [468.6487, 545.5823,  10.5162,  20.8876],\n",
      "        [588.1524, 546.0978,  10.4618,  20.9019],\n",
      "        [394.2933, 574.2272,  12.7515,  21.1528],\n",
      "        [654.9995, 547.3024,  10.7026,  21.2357],\n",
      "        [432.4710, 575.0097,  11.5281,  21.5372],\n",
      "        [531.5449, 546.6499,  10.8228,  20.9989],\n",
      "        [565.7886, 575.0247,  11.2323,  20.5417],\n",
      "        [410.2432, 546.7703,  11.1893,  21.3839],\n",
      "        [643.4091, 546.4795,  10.5817,  21.0648],\n",
      "        [680.0133, 546.7723,  10.1281,  20.7581],\n",
      "        [481.3207, 545.6787,  11.2237,  21.3357],\n",
      "        [578.5265, 574.1266,  10.8402,  21.0870],\n",
      "        [630.3530, 547.2703,  10.6869,  20.9496],\n",
      "        [494.3694, 602.0048,  10.7737,  20.7704],\n",
      "        [637.0072, 603.0590,  10.2336,  20.7159],\n",
      "        [556.7859, 546.7302,  10.8138,  21.3610],\n",
      "        [423.7839, 545.6288,  11.3585,  21.5426],\n",
      "        [518.5651, 603.0719,  10.6875,  20.8657],\n",
      "        [600.9095, 546.3112,  11.0519,  21.2114],\n",
      "        [506.2377, 603.1486,  10.9289,  20.9075],\n",
      "        [612.0343, 602.9471,  10.4664,  20.4363],\n",
      "        [587.1102, 603.1869,  10.9830,  20.4771],\n",
      "        [716.8041, 546.6449,  10.2145,  20.6962],\n",
      "        [493.6399, 546.2441,  11.0284,  21.3000],\n",
      "        [458.4510, 574.6688,  11.5764,  20.6459],\n",
      "        [544.2391, 546.6069,  11.2905,  21.4373],\n",
      "        [484.0117, 574.6361,  11.1552,  20.8823],\n",
      "        [419.6149, 575.1686,  11.9846,  22.0642],\n",
      "        [556.8650, 602.2269,  10.7000,  20.7328],\n",
      "        [625.0414, 602.3169,  10.1278,  20.4355],\n",
      "        [701.6172, 575.5657,   9.5615,  20.7400],\n",
      "        [740.4330, 547.9099,  10.3805,  21.9507],\n",
      "        [590.5361, 574.7747,  10.5742,  19.6144],\n",
      "        [719.7057, 574.4172,  10.7845,  21.0574],\n",
      "        [406.7280, 575.2705,  11.5910,  21.6121],\n",
      "        [531.2299, 603.1920,  10.6104,  21.1528],\n",
      "        [436.7955, 545.4297,  11.0721,  21.3507],\n",
      "        [397.0813, 546.6682,  11.0678,  21.4771],\n",
      "        [661.5466, 602.9896,  10.7458,  21.0909],\n",
      "        [667.6812, 547.4999,  10.4733,  20.9331],\n",
      "        [603.3850, 574.9669,  11.3126,  20.1223],\n",
      "        [543.8787, 603.1289,  10.5767,  20.6843],\n",
      "        [522.5897, 574.7512,  11.1392,  20.8677],\n",
      "        [599.7602, 602.9067,  10.3042,  20.4133],\n",
      "        [547.7305, 574.2248,  11.7915,  20.7473]], device='cuda:0')\n",
      "xywhn: tensor([[0.4855, 0.5604, 0.0108, 0.0204],\n",
      "        [0.3747, 0.5337, 0.0108, 0.0210],\n",
      "        [0.4394, 0.5330, 0.0105, 0.0212],\n",
      "        [0.4572, 0.5885, 0.0115, 0.0205],\n",
      "        [0.6017, 0.5614, 0.0102, 0.0194],\n",
      "        [0.4349, 0.5615, 0.0113, 0.0211],\n",
      "        [0.6737, 0.5615, 0.0102, 0.0196],\n",
      "        [0.6879, 0.5336, 0.0105, 0.0204],\n",
      "        [0.5554, 0.5890, 0.0106, 0.0198],\n",
      "        [0.5985, 0.5337, 0.0102, 0.0211],\n",
      "        [0.6618, 0.5610, 0.0105, 0.0203],\n",
      "        [0.4608, 0.5606, 0.0107, 0.0207],\n",
      "        [0.7115, 0.5340, 0.0097, 0.0201],\n",
      "        [0.4948, 0.5336, 0.0108, 0.0207],\n",
      "        [0.6339, 0.5889, 0.0101, 0.0203],\n",
      "        [0.4691, 0.5894, 0.0110, 0.0206],\n",
      "        [0.3619, 0.5335, 0.0112, 0.0211],\n",
      "        [0.6494, 0.5611, 0.0102, 0.0204],\n",
      "        [0.4444, 0.5895, 0.0116, 0.0207],\n",
      "        [0.5071, 0.5338, 0.0101, 0.0207],\n",
      "        [0.4981, 0.5604, 0.0113, 0.0204],\n",
      "        [0.6256, 0.5608, 0.0102, 0.0202],\n",
      "        [0.6135, 0.5606, 0.0099, 0.0200],\n",
      "        [0.5564, 0.5331, 0.0106, 0.0206],\n",
      "        [0.6759, 0.5348, 0.0102, 0.0208],\n",
      "        [0.6373, 0.5615, 0.0104, 0.0199],\n",
      "        [0.5222, 0.5614, 0.0103, 0.0201],\n",
      "        [0.4577, 0.5328, 0.0103, 0.0204],\n",
      "        [0.5744, 0.5333, 0.0102, 0.0204],\n",
      "        [0.3851, 0.5608, 0.0125, 0.0207],\n",
      "        [0.6396, 0.5345, 0.0105, 0.0207],\n",
      "        [0.4223, 0.5615, 0.0113, 0.0210],\n",
      "        [0.5191, 0.5338, 0.0106, 0.0205],\n",
      "        [0.5525, 0.5615, 0.0110, 0.0201],\n",
      "        [0.4006, 0.5340, 0.0109, 0.0209],\n",
      "        [0.6283, 0.5337, 0.0103, 0.0206],\n",
      "        [0.6641, 0.5340, 0.0099, 0.0203],\n",
      "        [0.4700, 0.5329, 0.0110, 0.0208],\n",
      "        [0.5650, 0.5607, 0.0106, 0.0206],\n",
      "        [0.6156, 0.5344, 0.0104, 0.0205],\n",
      "        [0.4828, 0.5879, 0.0105, 0.0203],\n",
      "        [0.6221, 0.5889, 0.0100, 0.0202],\n",
      "        [0.5437, 0.5339, 0.0106, 0.0209],\n",
      "        [0.4139, 0.5328, 0.0111, 0.0210],\n",
      "        [0.5064, 0.5889, 0.0104, 0.0204],\n",
      "        [0.5868, 0.5335, 0.0108, 0.0207],\n",
      "        [0.4944, 0.5890, 0.0107, 0.0204],\n",
      "        [0.5977, 0.5888, 0.0102, 0.0200],\n",
      "        [0.5733, 0.5890, 0.0107, 0.0200],\n",
      "        [0.7000, 0.5338, 0.0100, 0.0202],\n",
      "        [0.4821, 0.5334, 0.0108, 0.0208],\n",
      "        [0.4477, 0.5612, 0.0113, 0.0202],\n",
      "        [0.5315, 0.5338, 0.0110, 0.0209],\n",
      "        [0.4727, 0.5612, 0.0109, 0.0204],\n",
      "        [0.4098, 0.5617, 0.0117, 0.0215],\n",
      "        [0.5438, 0.5881, 0.0104, 0.0202],\n",
      "        [0.6104, 0.5882, 0.0099, 0.0200],\n",
      "        [0.6852, 0.5621, 0.0093, 0.0203],\n",
      "        [0.7231, 0.5351, 0.0101, 0.0214],\n",
      "        [0.5767, 0.5613, 0.0103, 0.0192],\n",
      "        [0.7028, 0.5610, 0.0105, 0.0206],\n",
      "        [0.3972, 0.5618, 0.0113, 0.0211],\n",
      "        [0.5188, 0.5891, 0.0104, 0.0207],\n",
      "        [0.4266, 0.5326, 0.0108, 0.0209],\n",
      "        [0.3878, 0.5339, 0.0108, 0.0210],\n",
      "        [0.6460, 0.5889, 0.0105, 0.0206],\n",
      "        [0.6520, 0.5347, 0.0102, 0.0204],\n",
      "        [0.5892, 0.5615, 0.0110, 0.0197],\n",
      "        [0.5311, 0.5890, 0.0103, 0.0202],\n",
      "        [0.5103, 0.5613, 0.0109, 0.0204],\n",
      "        [0.5857, 0.5888, 0.0101, 0.0199],\n",
      "        [0.5349, 0.5608, 0.0115, 0.0203]], device='cuda:0')\n",
      "xyxy: tensor([[491.6624, 563.4742, 502.7065, 584.3203],\n",
      "        [378.1562, 535.7141, 389.1647, 557.2563],\n",
      "        [444.5914, 534.9676, 455.3528, 556.6376],\n",
      "        [462.3394, 592.1483, 474.1003, 613.1865],\n",
      "        [610.9299, 564.9260, 621.3628, 584.8203],\n",
      "        [439.6212, 564.1604, 451.1414, 585.7671],\n",
      "        [684.6665, 565.0042, 695.0835, 585.0404],\n",
      "        [699.0724, 535.9732, 709.8282, 556.9078],\n",
      "        [563.2909, 593.0178, 574.1544, 613.2878],\n",
      "        [607.6331, 535.6763, 618.1037, 557.2795],\n",
      "        [672.2956, 564.0289, 683.0750, 584.8176],\n",
      "        [466.4156, 563.4993, 477.3501, 584.6776],\n",
      "        [723.6671, 536.5121, 733.5778, 557.0536],\n",
      "        [501.1269, 535.8021, 512.1862, 557.0280],\n",
      "        [643.9619, 592.6157, 654.3245, 613.4139],\n",
      "        [474.7062, 593.0486, 485.9443, 614.1077],\n",
      "        [364.8452, 535.4614, 376.2795, 557.1030],\n",
      "        [659.7920, 564.0900, 670.2400, 584.9554],\n",
      "        [449.1926, 593.0673, 461.0389, 614.2823],\n",
      "        [514.0815, 535.9982, 524.4492, 557.2242],\n",
      "        [504.3082, 563.4388, 515.8401, 584.3139],\n",
      "        [635.3867, 563.9329, 645.8762, 584.6039],\n",
      "        [623.1382, 563.8320, 633.3176, 584.3058],\n",
      "        [564.3070, 535.2939, 575.1281, 556.3991],\n",
      "        [686.8495, 536.9987, 697.3193, 558.2494],\n",
      "        [647.3011, 564.7875, 657.9049, 585.1572],\n",
      "        [529.4480, 564.5443, 540.0295, 585.1617],\n",
      "        [463.3906, 535.1385, 473.9069, 556.0261],\n",
      "        [582.9215, 535.6469, 593.3833, 556.5487],\n",
      "        [387.9175, 563.6508, 400.6690, 584.8036],\n",
      "        [649.6482, 536.6845, 660.3508, 557.9202],\n",
      "        [426.7069, 564.2411, 438.2350, 585.7783],\n",
      "        [526.1335, 536.1505, 536.9563, 557.1494],\n",
      "        [560.1725, 564.7538, 571.4048, 585.2955],\n",
      "        [404.6485, 536.0783, 415.8378, 557.4622],\n",
      "        [638.1182, 535.9471, 648.6999, 557.0119],\n",
      "        [674.9493, 536.3933, 685.0773, 557.1514],\n",
      "        [475.7088, 535.0109, 486.9325, 556.3466],\n",
      "        [573.1064, 563.5831, 583.9466, 584.6701],\n",
      "        [625.0095, 536.7955, 635.6964, 557.7451],\n",
      "        [488.9825, 591.6196, 499.7563, 612.3900],\n",
      "        [631.8904, 592.7010, 642.1240, 613.4169],\n",
      "        [551.3790, 536.0497, 562.1929, 557.4106],\n",
      "        [418.1046, 534.8575, 429.4631, 556.4001],\n",
      "        [513.2213, 592.6390, 523.9088, 613.5048],\n",
      "        [595.3836, 535.7054, 606.4355, 556.9169],\n",
      "        [500.7732, 592.6948, 511.7021, 613.6023],\n",
      "        [606.8011, 592.7290, 617.2675, 613.1653],\n",
      "        [581.6187, 592.9484, 592.6017, 613.4254],\n",
      "        [711.6968, 536.2968, 721.9113, 556.9930],\n",
      "        [488.1257, 535.5941, 499.1541, 556.8942],\n",
      "        [452.6628, 564.3459, 464.2392, 584.9918],\n",
      "        [538.5939, 535.8883, 549.8844, 557.3256],\n",
      "        [478.4341, 564.1949, 489.5894, 585.0773],\n",
      "        [413.6226, 564.1365, 425.6072, 586.2007],\n",
      "        [551.5150, 591.8605, 562.2150, 612.5933],\n",
      "        [619.9775, 592.0991, 630.1053, 612.5347],\n",
      "        [696.8365, 565.1957, 706.3980, 585.9357],\n",
      "        [735.2428, 536.9346, 745.6233, 558.8853],\n",
      "        [585.2490, 564.9675, 595.8232, 584.5818],\n",
      "        [714.3134, 563.8885, 725.0980, 584.9459],\n",
      "        [400.9325, 564.4645, 412.5235, 586.0765],\n",
      "        [525.9247, 592.6156, 536.5350, 613.7684],\n",
      "        [431.2595, 534.7544, 442.3316, 556.1051],\n",
      "        [391.5474, 535.9296, 402.6152, 557.4067],\n",
      "        [656.1737, 592.4442, 666.9196, 613.5351],\n",
      "        [662.4445, 537.0333, 672.9178, 557.9664],\n",
      "        [597.7287, 564.9057, 609.0413, 585.0280],\n",
      "        [538.5904, 592.7867, 549.1671, 613.4711],\n",
      "        [517.0201, 564.3174, 528.1593, 585.1851],\n",
      "        [594.6081, 592.7001, 604.9123, 613.1134],\n",
      "        [541.8348, 563.8511, 553.6263, 584.5984]], device='cuda:0')\n",
      "xyxyn: tensor([[0.4801, 0.5503, 0.4909, 0.5706],\n",
      "        [0.3693, 0.5232, 0.3800, 0.5442],\n",
      "        [0.4342, 0.5224, 0.4447, 0.5436],\n",
      "        [0.4515, 0.5783, 0.4630, 0.5988],\n",
      "        [0.5966, 0.5517, 0.6068, 0.5711],\n",
      "        [0.4293, 0.5509, 0.4406, 0.5720],\n",
      "        [0.6686, 0.5518, 0.6788, 0.5713],\n",
      "        [0.6827, 0.5234, 0.6932, 0.5439],\n",
      "        [0.5501, 0.5791, 0.5607, 0.5989],\n",
      "        [0.5934, 0.5231, 0.6036, 0.5442],\n",
      "        [0.6565, 0.5508, 0.6671, 0.5711],\n",
      "        [0.4555, 0.5503, 0.4662, 0.5710],\n",
      "        [0.7067, 0.5239, 0.7164, 0.5440],\n",
      "        [0.4894, 0.5232, 0.5002, 0.5440],\n",
      "        [0.6289, 0.5787, 0.6390, 0.5990],\n",
      "        [0.4636, 0.5791, 0.4746, 0.5997],\n",
      "        [0.3563, 0.5229, 0.3675, 0.5440],\n",
      "        [0.6443, 0.5509, 0.6545, 0.5712],\n",
      "        [0.4387, 0.5792, 0.4502, 0.5999],\n",
      "        [0.5020, 0.5234, 0.5122, 0.5442],\n",
      "        [0.4925, 0.5502, 0.5038, 0.5706],\n",
      "        [0.6205, 0.5507, 0.6307, 0.5709],\n",
      "        [0.6085, 0.5506, 0.6185, 0.5706],\n",
      "        [0.5511, 0.5227, 0.5616, 0.5434],\n",
      "        [0.6708, 0.5244, 0.6810, 0.5452],\n",
      "        [0.6321, 0.5516, 0.6425, 0.5714],\n",
      "        [0.5170, 0.5513, 0.5274, 0.5714],\n",
      "        [0.4525, 0.5226, 0.4628, 0.5430],\n",
      "        [0.5693, 0.5231, 0.5795, 0.5435],\n",
      "        [0.3788, 0.5504, 0.3913, 0.5711],\n",
      "        [0.6344, 0.5241, 0.6449, 0.5448],\n",
      "        [0.4167, 0.5510, 0.4280, 0.5720],\n",
      "        [0.5138, 0.5236, 0.5244, 0.5441],\n",
      "        [0.5470, 0.5515, 0.5580, 0.5716],\n",
      "        [0.3952, 0.5235, 0.4061, 0.5444],\n",
      "        [0.6232, 0.5234, 0.6335, 0.5440],\n",
      "        [0.6591, 0.5238, 0.6690, 0.5441],\n",
      "        [0.4646, 0.5225, 0.4755, 0.5433],\n",
      "        [0.5597, 0.5504, 0.5703, 0.5710],\n",
      "        [0.6104, 0.5242, 0.6208, 0.5447],\n",
      "        [0.4775, 0.5778, 0.4880, 0.5980],\n",
      "        [0.6171, 0.5788, 0.6271, 0.5990],\n",
      "        [0.5385, 0.5235, 0.5490, 0.5443],\n",
      "        [0.4083, 0.5223, 0.4194, 0.5434],\n",
      "        [0.5012, 0.5787, 0.5116, 0.5991],\n",
      "        [0.5814, 0.5231, 0.5922, 0.5439],\n",
      "        [0.4890, 0.5788, 0.4997, 0.5992],\n",
      "        [0.5926, 0.5788, 0.6028, 0.5988],\n",
      "        [0.5680, 0.5791, 0.5787, 0.5990],\n",
      "        [0.6950, 0.5237, 0.7050, 0.5439],\n",
      "        [0.4767, 0.5230, 0.4875, 0.5438],\n",
      "        [0.4421, 0.5511, 0.4534, 0.5713],\n",
      "        [0.5260, 0.5233, 0.5370, 0.5443],\n",
      "        [0.4672, 0.5510, 0.4781, 0.5714],\n",
      "        [0.4039, 0.5509, 0.4156, 0.5725],\n",
      "        [0.5386, 0.5780, 0.5490, 0.5982],\n",
      "        [0.6054, 0.5782, 0.6153, 0.5982],\n",
      "        [0.6805, 0.5519, 0.6898, 0.5722],\n",
      "        [0.7180, 0.5244, 0.7281, 0.5458],\n",
      "        [0.5715, 0.5517, 0.5819, 0.5709],\n",
      "        [0.6976, 0.5507, 0.7081, 0.5712],\n",
      "        [0.3915, 0.5512, 0.4029, 0.5723],\n",
      "        [0.5136, 0.5787, 0.5240, 0.5994],\n",
      "        [0.4212, 0.5222, 0.4320, 0.5431],\n",
      "        [0.3824, 0.5234, 0.3932, 0.5443],\n",
      "        [0.6408, 0.5786, 0.6513, 0.5992],\n",
      "        [0.6469, 0.5244, 0.6571, 0.5449],\n",
      "        [0.5837, 0.5517, 0.5948, 0.5713],\n",
      "        [0.5260, 0.5789, 0.5363, 0.5991],\n",
      "        [0.5049, 0.5511, 0.5158, 0.5715],\n",
      "        [0.5807, 0.5788, 0.5907, 0.5987],\n",
      "        [0.5291, 0.5506, 0.5407, 0.5709]], device='cuda:0')\n"
     ]
    }
   ],
   "source": [
    "print(boxes)"
   ]
  },
  {
   "cell_type": "code",
   "execution_count": 44,
   "metadata": {},
   "outputs": [],
   "source": [
    "result_classes = cls_to_symbol(boxes.cls, symbol_map)\n",
    "#result_classes"
   ]
  },
  {
   "cell_type": "code",
   "execution_count": 45,
   "metadata": {},
   "outputs": [
    {
     "name": "stdout",
     "output_type": "stream",
     "text": [
      "3\n"
     ]
    }
   ],
   "source": [
    "sorted_result = sort_coordinates_by_row(boxes.xywhn, result_classes, threshold=0.01)\n",
    "print(len(sorted_result))\n",
    "#sorted_result"
   ]
  },
  {
   "cell_type": "code",
   "execution_count": 46,
   "metadata": {},
   "outputs": [],
   "source": [
    "sorted_result_1DIM = []\n",
    "for sublist in sorted_result:\n",
    "    sorted_result_1DIM.extend(sublist)"
   ]
  },
  {
   "cell_type": "code",
   "execution_count": 47,
   "metadata": {},
   "outputs": [
    {
     "data": {
      "text/plain": [
       "[[0.36187732219696045, 0.5334787368774414, ('_y', 51)],\n",
       " [0.3746684193611145, 0.5336769819259644, ('ch', 22)],\n",
       " [0.38777467608451843, 0.5338556170463562, ('e', 26)],\n",
       " [0.40062808990478516, 0.5339553356170654, ('b', 20)],\n",
       " [0.41385143995285034, 0.5328406691551208, ('_n', 39)],\n",
       " [0.42655813694000244, 0.5326462388038635, ('a', 19)],\n",
       " [0.43942588567733765, 0.5330103635787964, ('ya', 52)],\n",
       " [0.4576647877693176, 0.5327951908111572, ('a', 19)],\n",
       " [0.4700397253036499, 0.5328893661499023, ('_y', 51)],\n",
       " [0.4820702075958252, 0.5334415435791016, ('d', 23)],\n",
       " [0.4947817921638489, 0.5336084365844727, ('i', 30)],\n",
       " [0.5070950984954834, 0.5338000059127808, ('t', 46)],\n",
       " [0.5190868377685547, 0.5338377952575684, ('o', 40)],\n",
       " [0.53148353099823, 0.5337958335876465, ('r', 42)],\n",
       " [0.5437362790107727, 0.533916175365448, ('i', 30)],\n",
       " [0.5563647747039795, 0.5330532193183899, ('ya', 52)],\n",
       " [0.5743675827980042, 0.5332986116409302, ('d', 23)],\n",
       " [0.5868257284164429, 0.5335069894790649, ('l', 36)],\n",
       " [0.5985043048858643, 0.5336698293685913, ('ya', 52)],\n",
       " [0.6155790686607361, 0.5344436764717102, ('p', 41)],\n",
       " [0.6283291578292847, 0.5336713790893555, ('r', 42)],\n",
       " [0.6396479606628418, 0.5344749689102173, ('o', 40)],\n",
       " [0.6520323753356934, 0.5346678495407104, ('v', 49)],\n",
       " [0.664075493812561, 0.5339573621749878, ('e', 26)],\n",
       " [0.6758636832237244, 0.5347890853881836, ('d', 23)],\n",
       " [0.6879397630691528, 0.533633291721344, ('e', 26)],\n",
       " [0.700003981590271, 0.5338329076766968, ('_n', 39)],\n",
       " [0.7115453481674194, 0.5339676141738892, ('i', 30)],\n",
       " [0.7230791449546814, 0.5350682735443115, ('ya', 52)],\n",
       " [0.5540655851364136, 0.5479185283184052, ('space', 56)],\n",
       " [0.38505202531814575, 0.5607687830924988, ('l', 36)],\n",
       " [0.39719533920288086, 0.5617876052856445, ('a', 19)],\n",
       " [0.4097801446914673, 0.5616880655288696, ('b', 20)],\n",
       " [0.4223349392414093, 0.5615329146385193, ('o', 40)],\n",
       " [0.43494266271591187, 0.5614880323410034, ('r', 42)],\n",
       " [0.44770604372024536, 0.5612000226974487, ('a', 19)],\n",
       " [0.460823118686676, 0.5606332421302795, ('t', 46)],\n",
       " [0.47266772389411926, 0.5611680746078491, ('o', 40)],\n",
       " [0.48553168773651123, 0.5604465007781982, ('r', 42)],\n",
       " [0.4981192946434021, 0.5604261159896851, ('_n', 39)],\n",
       " [0.5103415250778198, 0.5612804889678955, ('ii', 32)],\n",
       " [0.5222058296203613, 0.5613798499107361, ('x', 50)],\n",
       " [0.5348930954933167, 0.5607663989067078, ('zapyataya', 55)],\n",
       " [0.5525279641151428, 0.5615475177764893, ('p', 41)],\n",
       " [0.5649672746658325, 0.5606704950332642, ('r', 42)],\n",
       " [0.576695442199707, 0.5613033771514893, ('a', 19)],\n",
       " [0.5892431735992432, 0.561491072177887, ('k', 33)],\n",
       " [0.6017054319381714, 0.5613995790481567, ('t', 46)],\n",
       " [0.6135038137435913, 0.5606141686439514, ('i', 30)],\n",
       " [0.6256166100502014, 0.5608089566230774, ('ch', 22)],\n",
       " [0.6373076438903809, 0.5614964365959167, ('e', 26)],\n",
       " [0.6494296789169312, 0.5610573291778564, ('s', 43)],\n",
       " [0.6618020534515381, 0.5609602332115173, ('k', 33)],\n",
       " [0.6737060546875, 0.561545193195343, ('i', 30)],\n",
       " [0.6851730942726135, 0.5620759129524231, ('x', 50)],\n",
       " [0.7028375864028931, 0.5609543323516846, ('i', 30)],\n",
       " [0.573643296957016, 0.5752402544021606, ('space', 56)],\n",
       " [0.4444490075111389, 0.5895261764526367, ('l', 36)],\n",
       " [0.45724594593048096, 0.5885423421859741, ('e', 26)],\n",
       " [0.46906766295433044, 0.5894317626953125, ('k', 33)],\n",
       " [0.48278260231018066, 0.5878952741622925, ('c', 21)],\n",
       " [0.49437272548675537, 0.5890122652053833, ('i', 30)],\n",
       " [0.5064111948013306, 0.5889374017715454, ('o', 40)],\n",
       " [0.5187791585922241, 0.5890547037124634, ('_n', 39)],\n",
       " [0.5311315655708313, 0.5889930725097656, ('_n', 39)],\n",
       " [0.5438134670257568, 0.5881122350692749, ('ii', 32)],\n",
       " [0.5553932189941406, 0.5890164375305176, ('x', 50)],\n",
       " [0.5733498334884644, 0.5890496969223022, ('z', 54)],\n",
       " [0.5857033133506775, 0.5887761116027832, ('a', 19)],\n",
       " [0.5976897478103638, 0.5888155698776245, ('_n', 39)],\n",
       " [0.6103919744491577, 0.5882000923156738, ('ya', 52)],\n",
       " [0.6220773458480835, 0.588924765586853, ('t', 46)],\n",
       " [0.6339288949966431, 0.5888816118240356, ('i', 30)],\n",
       " [0.6460416316986084, 0.5888570547103882, ('iKratkoe', 31)]]"
      ]
     },
     "execution_count": 47,
     "metadata": {},
     "output_type": "execute_result"
    }
   ],
   "source": [
    "sorted_result_1DIM_with_spaces = input_spaces(sorted_result_1DIM, threshold=0.02)\n",
    "sorted_result_1DIM_with_spaces"
   ]
  },
  {
   "cell_type": "code",
   "execution_count": 25,
   "metadata": {},
   "outputs": [],
   "source": [
    "res_rus_text_list = to_rus_symbols(sorted_result_1DIM_with_spaces)"
   ]
  },
  {
   "cell_type": "code",
   "execution_count": 26,
   "metadata": {},
   "outputs": [
    {
     "data": {
      "text/plain": [
       "'учебнаяаудиториядляпроведения лабораторных,практическихи лекционныхзанятий'"
      ]
     },
     "execution_count": 26,
     "metadata": {},
     "output_type": "execute_result"
    }
   ],
   "source": [
    "result_text_str = ''.join(res_rus_text_list)\n",
    "result_text_str"
   ]
  },
  {
   "cell_type": "code",
   "execution_count": 27,
   "metadata": {},
   "outputs": [],
   "source": [
    "from pyaspeller import YandexSpeller\n",
    "from autocorrect import Speller"
   ]
  },
  {
   "cell_type": "code",
   "execution_count": 28,
   "metadata": {},
   "outputs": [],
   "source": [
    "spell = Speller()\n",
    "speller = YandexSpeller()"
   ]
  },
  {
   "cell_type": "code",
   "execution_count": 29,
   "metadata": {},
   "outputs": [
    {
     "data": {
      "text/plain": [
       "'учебная аудитория для проведения лабораторных,практических и лекционных занятий'"
      ]
     },
     "execution_count": 29,
     "metadata": {},
     "output_type": "execute_result"
    }
   ],
   "source": [
    "result_text_str = spell(result_text_str)\n",
    "result_text_str = speller.spelled(result_text_str)\n",
    "result_text_str"
   ]
  },
  {
   "cell_type": "code",
   "execution_count": 50,
   "metadata": {},
   "outputs": [],
   "source": [
    "import pyttsx3\n",
    "\n",
    "engine = pyttsx3.init()\n",
    "engine.save_to_file(result_text_str , 'test2.wav')\n",
    "\n",
    "engine.say(result_text_str)\n",
    "engine.runAndWait()"
   ]
  },
  {
   "cell_type": "code",
   "execution_count": 31,
   "metadata": {},
   "outputs": [
    {
     "data": {
      "text/plain": [
       "'\\ncv2.imshow(\"Preprocessed image\", preprocessing_image)\\ncv2.waitKey(0)\\ncv2.destroyAllWindows()\\n'"
      ]
     },
     "execution_count": 31,
     "metadata": {},
     "output_type": "execute_result"
    }
   ],
   "source": [
    "'''\n",
    "cv2.imshow(\"Preprocessed image\", preprocessing_image)\n",
    "cv2.waitKey(0)\n",
    "cv2.destroyAllWindows()\n",
    "'''"
   ]
  },
  {
   "cell_type": "code",
   "execution_count": 32,
   "metadata": {},
   "outputs": [
    {
     "data": {
      "text/plain": [
       "'\\ncoords = (0, 0, 100, 100)\\n\\nx_1 = coords[0]\\ny_1 = coords[1]\\nx_2 = coords[2]\\ny_2 = coords[3]\\n\\nstart_point = (int(x_1), int(y_1))\\nend_point = (int(x_2), int(y_2))\\n\\nimage = cv2.rectangle(preprocessing_image, start_point, end_point, (0,255,0), 1)\\n\\ncv2.imshow(\"Image\", image)\\ncv2.waitKey(0)\\ncv2.destroyAllWindows()\\n'"
      ]
     },
     "execution_count": 32,
     "metadata": {},
     "output_type": "execute_result"
    }
   ],
   "source": [
    "'''\n",
    "coords = (0, 0, 100, 100)\n",
    "\n",
    "x_1 = coords[0]\n",
    "y_1 = coords[1]\n",
    "x_2 = coords[2]\n",
    "y_2 = coords[3]\n",
    "\n",
    "start_point = (int(x_1), int(y_1))\n",
    "end_point = (int(x_2), int(y_2))\n",
    "\n",
    "image = cv2.rectangle(preprocessing_image, start_point, end_point, (0,255,0), 1)\n",
    "\n",
    "cv2.imshow(\"Image\", image)\n",
    "cv2.waitKey(0)\n",
    "cv2.destroyAllWindows()\n",
    "'''"
   ]
  }
 ],
 "metadata": {
  "kernelspec": {
   "display_name": "Python 3",
   "language": "python",
   "name": "python3"
  },
  "language_info": {
   "codemirror_mode": {
    "name": "ipython",
    "version": 3
   },
   "file_extension": ".py",
   "mimetype": "text/x-python",
   "name": "python",
   "nbconvert_exporter": "python",
   "pygments_lexer": "ipython3",
   "version": "3.12.2"
  }
 },
 "nbformat": 4,
 "nbformat_minor": 2
}
